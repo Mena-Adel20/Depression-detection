{
 "cells": [
  {
   "cell_type": "code",
   "execution_count": 147,
   "id": "32ac209d",
   "metadata": {},
   "outputs": [
    {
     "name": "stderr",
     "output_type": "stream",
     "text": [
      "[nltk_data] Downloading package stopwords to\n",
      "[nltk_data]     C:\\Users\\otaku7\\AppData\\Roaming\\nltk_data...\n",
      "[nltk_data]   Package stopwords is already up-to-date!\n",
      "[nltk_data] Downloading package punkt to\n",
      "[nltk_data]     C:\\Users\\otaku7\\AppData\\Roaming\\nltk_data...\n",
      "[nltk_data]   Package punkt is already up-to-date!\n",
      "[nltk_data] Downloading package wordnet to\n",
      "[nltk_data]     C:\\Users\\otaku7\\AppData\\Roaming\\nltk_data...\n",
      "[nltk_data]   Package wordnet is already up-to-date!\n"
     ]
    }
   ],
   "source": [
    "import pandas as pd\n",
    "import numpy as np\n",
    "import seaborn as sns\n",
    "import matplotlib.pyplot as plt\n",
    "import string \n",
    "import re\n",
    "import nltk\n",
    "from nltk.corpus import stopwords \n",
    "nltk.download('stopwords')\n",
    "nltk.download('punkt')\n",
    "nltk.download('wordnet')\n",
    "from nltk.stem.wordnet import WordNetLemmatizer\n",
    "from nltk.stem import PorterStemmer\n",
    "from sklearn.model_selection import train_test_split\n",
    "from sklearn.linear_model import LogisticRegression\n",
    "from sklearn.naive_bayes import MultinomialNB\n",
    "from sklearn.tree import DecisionTreeClassifier\n",
    "from sklearn.ensemble import RandomForestClassifier\n",
    "from sklearn.svm import LinearSVC\n",
    "from sklearn.utils import compute_class_weight"
   ]
  },
  {
   "cell_type": "code",
   "execution_count": 116,
   "id": "14d77fe7",
   "metadata": {},
   "outputs": [],
   "source": [
    "df=pd.read_csv(r\"C:\\Users\\otaku7\\Desktop\\GP\\depresion\\clean_data.csv\")"
   ]
  },
  {
   "cell_type": "code",
   "execution_count": 117,
   "id": "03123168",
   "metadata": {},
   "outputs": [],
   "source": [
    "#TF-IDF Vectorization\n",
    "from sklearn.feature_extraction.text import TfidfVectorizer\n",
    "\n",
    "# Initialize the TfidfVectorizer\n",
    "Vectorizer = TfidfVectorizer()\n",
    "\n",
    "# Fit and transform the text data\n",
    "dataVectorized = Vectorizer.fit_transform(df['message'])\n",
    "\n",
    "# Get the feature names (words) in the order they appear in the matrix\n",
    "feature_names = Vectorizer.get_feature_names()\n",
    "\n",
    "# Convert the TF-IDF matrix to a Pandas DataFrame for easier inspection\n",
    "df_tfidf = pd.DataFrame(dataVectorized.toarray(), columns=feature_names)"
   ]
  },
  {
   "cell_type": "code",
   "execution_count": null,
   "id": "4e7eb36d",
   "metadata": {},
   "outputs": [],
   "source": []
  },
  {
   "cell_type": "code",
   "execution_count": null,
   "id": "4dccd66b",
   "metadata": {},
   "outputs": [],
   "source": []
  },
  {
   "cell_type": "code",
   "execution_count": 118,
   "id": "46162543",
   "metadata": {},
   "outputs": [],
   "source": [
    "X=df_tfidf\n",
    "y=df['result']"
   ]
  },
  {
   "cell_type": "code",
   "execution_count": 119,
   "id": "915f8d61",
   "metadata": {},
   "outputs": [],
   "source": [
    "from sklearn.model_selection import train_test_split\n",
    "\n",
    "X_train, X_test ,y_train ,y_test = train_test_split(X, df['result'], test_size=0.2,\n",
    "                                                    stratify= df['result']  , random_state=0)"
   ]
  },
  {
   "cell_type": "code",
   "execution_count": 120,
   "id": "6356df06",
   "metadata": {
    "scrolled": true
   },
   "outputs": [
    {
     "data": {
      "image/png": "[encoded data removed]",
      "text/plain": [
       "<Figure size 432x288 with 1 Axes>"
      ]
     },
     "metadata": {
      "needs_background": "light"
     },
     "output_type": "display_data"
    }
   ],
   "source": [
    "sns.countplot(x=y_train)\n",
    "plt.show()"
   ]
  },
  {
   "cell_type": "code",
   "execution_count": 121,
   "id": "d5bf5f41",
   "metadata": {},
   "outputs": [
    {
     "data": {
      "image/png": "[encoded data removed]",
      "text/plain": [
       "<Figure size 432x288 with 1 Axes>"
      ]
     },
     "metadata": {
      "needs_background": "light"
     },
     "output_type": "display_data"
    }
   ],
   "source": [
    "sns.countplot(x=y_test)\n",
    "plt.show()"
   ]
  },
  {
   "cell_type": "code",
   "execution_count": 122,
   "id": "0d82dcc8",
   "metadata": {},
   "outputs": [
    {
     "data": {
      "text/plain": [
       "((8233, 14869), (8233,), (2059, 14869), (2059,))"
      ]
     },
     "execution_count": 122,
     "metadata": {},
     "output_type": "execute_result"
    }
   ],
   "source": [
    "X_train.shape, y_train.shape, X_test.shape, y_test.shape"
   ]
  },
  {
   "cell_type": "code",
   "execution_count": 123,
   "id": "11b9a6b5",
   "metadata": {},
   "outputs": [
    {
     "name": "stdout",
     "output_type": "stream",
     "text": [
      "{0: 0.6445390781563126, 1: 2.229636048526863}\n"
     ]
    }
   ],
   "source": [
    "from sklearn.utils import compute_class_weight\n",
    "\n",
    "# Assuming df_tar['result'] contains your target variable\n",
    "unique_classes = np.unique(df['result'])\n",
    "class_weights = compute_class_weight(\"balanced\", classes=unique_classes, y=df['result'])\n",
    "class_weights_dict = dict(zip(unique_classes, class_weights))\n",
    "\n",
    "print(class_weights_dict)\n"
   ]
  },
  {
   "cell_type": "code",
   "execution_count": 124,
   "id": "d31c3c3a",
   "metadata": {},
   "outputs": [],
   "source": [
    "def makeCM_Matrix(cm_matrix, title):\n",
    "\n",
    "  categories = ['Negative','Positive']\n",
    "\n",
    "  group_names = ['True Negative','False Positive', 'False Negative','True Positive']\n",
    "\n",
    "  group_percentages = ['{0:.2%}'.format(value) for value in cm_matrix.flatten() / np.sum(cm_matrix)]\n",
    "\n",
    "  labels = [f'{v1}\\n{v2} ({v3})' for v1, v2 ,v3 in zip(group_names,cm_matrix.flatten(),group_percentages)]\n",
    "\n",
    "  labels = np.asarray(labels).reshape(2,2)\n",
    "\n",
    "  sns.heatmap(cm_matrix, annot = labels,fmt = '',\n",
    "  xticklabels = categories, yticklabels = categories)\n",
    "\n",
    "  plt.xlabel(\"Predicted values\", fontdict = {'size':14}, labelpad = 10)\n",
    "  plt.ylabel(\"Actual values\" , fontdict = {'size':14}, labelpad = 10)\n",
    "  plt.title (f\"{title} Confusion Matrix\", fontdict = {'size':18}, pad = 20)\n",
    "  plt.show()"
   ]
  },
  {
   "cell_type": "markdown",
   "id": "c6f77d42",
   "metadata": {},
   "source": [
    "## logistic regression"
   ]
  },
  {
   "cell_type": "code",
   "execution_count": 125,
   "id": "fff87762",
   "metadata": {},
   "outputs": [],
   "source": [
    "lr = LogisticRegression(class_weight=class_weights_dict)"
   ]
  },
  {
   "cell_type": "code",
   "execution_count": 126,
   "id": "04a072f2",
   "metadata": {},
   "outputs": [
    {
     "data": {
      "text/plain": [
       "LogisticRegression(class_weight={0: 0.6445390781563126, 1: 2.229636048526863})"
      ]
     },
     "execution_count": 126,
     "metadata": {},
     "output_type": "execute_result"
    }
   ],
   "source": [
    "lr.fit(X_train, y_train)"
   ]
  },
  {
   "cell_type": "code",
   "execution_count": 127,
   "id": "83d8a565",
   "metadata": {},
   "outputs": [],
   "source": [
    "Train_lrScore = lr.score(X_train, y_train)"
   ]
  },
  {
   "cell_type": "code",
   "execution_count": 128,
   "id": "7e5fdf1e",
   "metadata": {},
   "outputs": [
    {
     "name": "stdout",
     "output_type": "stream",
     "text": [
      "Train Accuracy score of Logistic Regression is : 99.78%\n"
     ]
    }
   ],
   "source": [
    "print(f'Train Accuracy score of Logistic Regression is : {round(Train_lrScore * 100 ,2)}%')"
   ]
  },
  {
   "cell_type": "code",
   "execution_count": 129,
   "id": "8e34ac4b",
   "metadata": {},
   "outputs": [],
   "source": [
    "Test_lrScore = lr.score(X_test, y_test)"
   ]
  },
  {
   "cell_type": "code",
   "execution_count": 130,
   "id": "cfe1c0ea",
   "metadata": {},
   "outputs": [
    {
     "name": "stdout",
     "output_type": "stream",
     "text": [
      "Test Accuracy score for Logistic Regression is : 99.56%\n"
     ]
    }
   ],
   "source": [
    "print(f'Test Accuracy score for Logistic Regression is : {round(Test_lrScore * 100 ,2)}%')"
   ]
  },
  {
   "cell_type": "code",
   "execution_count": 131,
   "id": "9a4607b3",
   "metadata": {},
   "outputs": [],
   "source": [
    "from sklearn.metrics import confusion_matrix, accuracy_score, classification_report, roc_auc_score"
   ]
  },
  {
   "cell_type": "code",
   "execution_count": 132,
   "id": "9c68a868",
   "metadata": {},
   "outputs": [],
   "source": [
    "lrPreds = lr.predict(X_test)"
   ]
  },
  {
   "cell_type": "code",
   "execution_count": 133,
   "id": "f31541c5",
   "metadata": {},
   "outputs": [
    {
     "data": {
      "image/png": "[encoded data removed]",
      "text/plain": [
       "<Figure size 432x288 with 2 Axes>"
      ]
     },
     "metadata": {
      "needs_background": "light"
     },
     "output_type": "display_data"
    }
   ],
   "source": [
    "makeCM_Matrix(confusion_matrix(y_test, lrPreds), 'Logistic Regression')"
   ]
  },
  {
   "cell_type": "code",
   "execution_count": 134,
   "id": "dd93ffe6",
   "metadata": {},
   "outputs": [
    {
     "name": "stdout",
     "output_type": "stream",
     "text": [
      "Logistic Regression Classification Report: \n",
      "               precision    recall  f1-score   support\n",
      "\n",
      "          No       1.00      1.00      1.00      1597\n",
      "         Yes       1.00      0.98      0.99       462\n",
      "\n",
      "    accuracy                           1.00      2059\n",
      "   macro avg       1.00      0.99      0.99      2059\n",
      "weighted avg       1.00      1.00      1.00      2059\n",
      "\n"
     ]
    }
   ],
   "source": [
    "from sklearn.metrics import classification_report\n",
    "\n",
    "classification_report = classification_report(y_test, lrPreds, target_names=['No','Yes'])\n",
    "print('Logistic Regression Classification Report: \\n',classification_report)"
   ]
  },
  {
   "cell_type": "markdown",
   "id": "d4521b80",
   "metadata": {},
   "source": [
    "## decision tree"
   ]
  },
  {
   "cell_type": "code",
   "execution_count": 135,
   "id": "ecdf8e0d",
   "metadata": {},
   "outputs": [],
   "source": [
    "dt = DecisionTreeClassifier(class_weight=class_weights_dict)"
   ]
  },
  {
   "cell_type": "code",
   "execution_count": 136,
   "id": "9d2313f2",
   "metadata": {},
   "outputs": [
    {
     "data": {
      "text/plain": [
       "DecisionTreeClassifier(class_weight={0: 0.6445390781563126,\n",
       "                                     1: 2.229636048526863})"
      ]
     },
     "execution_count": 136,
     "metadata": {},
     "output_type": "execute_result"
    }
   ],
   "source": [
    "dt.fit(X_train, y_train)"
   ]
  },
  {
   "cell_type": "code",
   "execution_count": 137,
   "id": "c2db3bb3",
   "metadata": {},
   "outputs": [],
   "source": [
    "Train_dtScore = dt.score(X_train, y_train)"
   ]
  },
  {
   "cell_type": "code",
   "execution_count": 138,
   "id": "1c7145b7",
   "metadata": {},
   "outputs": [
    {
     "name": "stdout",
     "output_type": "stream",
     "text": [
      "\n",
      "Decision Tree Train Accuracy score is : 99.99%\n"
     ]
    }
   ],
   "source": [
    "print(f'\\nDecision Tree Train Accuracy score is : {round(Train_dtScore * 100 , 2)}%')"
   ]
  },
  {
   "cell_type": "code",
   "execution_count": 139,
   "id": "2fdb468e",
   "metadata": {},
   "outputs": [],
   "source": [
    "Test_dtScore = dt.score(X_test, y_test)\n"
   ]
  },
  {
   "cell_type": "code",
   "execution_count": 140,
   "id": "d25ea404",
   "metadata": {},
   "outputs": [
    {
     "name": "stdout",
     "output_type": "stream",
     "text": [
      "\n",
      "Decision Tree Test Accuracy score is : 99.66%\n"
     ]
    }
   ],
   "source": [
    "print(f'\\nDecision Tree Test Accuracy score is : {round(Test_dtScore * 100 , 2)}%')"
   ]
  },
  {
   "cell_type": "code",
   "execution_count": 141,
   "id": "d1b45a9e",
   "metadata": {},
   "outputs": [],
   "source": [
    "dtPreds = dt.predict(X_test)"
   ]
  },
  {
   "cell_type": "code",
   "execution_count": 142,
   "id": "9887421d",
   "metadata": {},
   "outputs": [
    {
     "data": {
      "image/png": "[encoded data removed]",
      "text/plain": [
       "<Figure size 432x288 with 2 Axes>"
      ]
     },
     "metadata": {
      "needs_background": "light"
     },
     "output_type": "display_data"
    }
   ],
   "source": [
    "makeCM_Matrix(confusion_matrix(y_test, dtPreds), 'Decision Tree')"
   ]
  },
  {
   "cell_type": "code",
   "execution_count": 113,
   "id": "c5a70e31",
   "metadata": {},
   "outputs": [
    {
     "name": "stdout",
     "output_type": "stream",
     "text": [
      "Decision Tree Classification Report: \n",
      "               precision    recall  f1-score   support\n",
      "\n",
      "          No       1.00      1.00      1.00      1597\n",
      "         Yes       1.00      0.99      0.99       462\n",
      "\n",
      "    accuracy                           1.00      2059\n",
      "   macro avg       1.00      0.99      1.00      2059\n",
      "weighted avg       1.00      1.00      1.00      2059\n",
      "\n"
     ]
    }
   ],
   "source": [
    "from sklearn.metrics import classification_report\n",
    "\n",
    "classification_report = classification_report(y_test, dtPreds, target_names=['No','Yes'])\n",
    "print('Decision Tree Classification Report: \\n',classification_report)"
   ]
  },
  {
   "cell_type": "code",
   "execution_count": 143,
   "id": "50959e04",
   "metadata": {},
   "outputs": [],
   "source": [
    "import pickle\n"
   ]
  },
  {
   "cell_type": "code",
   "execution_count": 145,
   "id": "dd738b38",
   "metadata": {},
   "outputs": [],
   "source": [
    "with open(\"model_and_vectorizer.pkl\", \"wb\") as model_file:\n",
    "    pickle.dump((dt, Vectorizer), model_file)"
   ]
  },
  {
   "cell_type": "code",
   "execution_count": 150,
   "id": "070b7c4c",
   "metadata": {},
   "outputs": [],
   "source": [
    "# Load the model and vectorizer\n",
    "with open(\"model_and_vectorizer.pkl\", \"rb\") as model_file:\n",
    "    loaded_model, loaded_tfidf_vectorizer = pickle.load(model_file)"
   ]
  },
  {
   "cell_type": "code",
   "execution_count": 151,
   "id": "ffd1643e",
   "metadata": {},
   "outputs": [],
   "source": [
    "def remove_url(text):\n",
    "    url_pattern = re.compile(r'(https?://\\S+)|(www\\.\\S+)|(\\S+\\.\\S+/\\S+)')\n",
    "    return url_pattern.sub(r'', text)\n",
    "\n",
    "def remove_pun(text):\n",
    "    res = text.replace(r'[^\\w\\s]+', '')\n",
    "    return res\n",
    "\n",
    "\n",
    "#removing emoji\n",
    "def remove_emoji(text):\n",
    "    emoji_pattern = re.compile(\"[\"\n",
    "                                  u\"\\U0001F600-\\U0001F64F\"  # emoticons\n",
    "                                  u\"\\U0001F300-\\U0001F5FF\"  # symbols & pictographs\n",
    "                                  u\"\\U0001F680-\\U0001F6FF\"  # transport & map symbols\n",
    "                                  u\"\\U0001F1E0-\\U0001F1FF\"  # flags (iOS)\n",
    "                                  u\"\\U00002702-\\U000027B0\"  # other miscellaneous symbols\n",
    "                                  u\"\\U000024C2-\\U0001F251\"  # enclosed characters\n",
    "                                \"]+\", flags=re.UNICODE)\n",
    "    \n",
    "    return emoji_pattern.sub(r'', text)\n",
    "\n",
    "\n",
    "\n",
    "def remove_stopwords(text):\n",
    "    StopWords=set(stopwords.words('english'))\n",
    "    result= \" \".join([word for word in text.split() if word not in StopWords])\n",
    "    return result\n",
    "\n",
    "def lemmatize_(text):\n",
    "    lem=nltk.stem.wordnet.WordNetLemmatizer()\n",
    "    result = \" \".join([lem.lemmatize(word) for word in text.split()])\n",
    "    return result\n",
    "\n",
    "def stem_(text):\n",
    "    stemmer=PorterStemmer()\n",
    "    result = \" \".join([stemmer.stem(word) for word in text.split()])\n",
    "    return result\n",
    "\n",
    "\n",
    "def cleanData(text):\n",
    "    # Remove repeating characters from tokens\n",
    "    ReapeatTokensRm =  \" \".join( [ re.sub(r'(\\w)\\1{2,}', r'\\1', word) for word in text.split()] ) \n",
    "    # Remove tokens containing digits\n",
    "    digitTokensRm =  \" \".join( [ word for word in ReapeatTokensRm.split() if not re.search(r'\\d', word) ] ) \n",
    "    # Remove tokens containing underscore\n",
    "    underscoreTokensRm =  \" \".join( [ word for word in digitTokensRm.split() if not re.search(r'_|\\w*_\\w*', word) ] )\n",
    "    # Remove tokens containing Special Characters\n",
    "    specialTokensRm =  \" \".join( [ word for word in underscoreTokensRm.split() if not re.search(r'[^a-zA-Z0-9\\s]', word) ] ) \n",
    "    # Remove tokens less than 2 characters\n",
    "    return \" \".join( [ word for word in specialTokensRm.split() if len(word) > 2 ] )  \n"
   ]
  },
  {
   "cell_type": "code",
   "execution_count": 152,
   "id": "56ce9ffb",
   "metadata": {},
   "outputs": [],
   "source": [
    "def process(inp):\n",
    "    inp=remove_emoji(inp)\n",
    "    inp=remove_url(inp)\n",
    "    inp=remove_stopwords(inp)\n",
    "    inp=remove_pun(inp)\n",
    "    inp=lemmatize_(inp)\n",
    "    inp=stem_(inp)\n",
    "    inp=cleanData(inp)\n",
    "    inputToModel = loaded_tfidf_vectorizer.transform([inp]).toarray()\n",
    "    return inputToModel\n",
    "    \n",
    "    "
   ]
  },
  {
   "cell_type": "code",
   "execution_count": 153,
   "id": "621828c1",
   "metadata": {},
   "outputs": [],
   "source": [
    "def app(input_text):\n",
    "    # Define the input text box\n",
    "    print('Input : ',input_text) #take input from user\n",
    "    processed_array = process(input_text) #preprocess the text \n",
    "    predict = loaded_model.predict(processed_array) #Model prediction\n",
    "    print('Output : ', predict[0])"
   ]
  },
  {
   "cell_type": "code",
   "execution_count": 162,
   "id": "02474775",
   "metadata": {},
   "outputs": [
    {
     "name": "stdout",
     "output_type": "stream",
     "text": [
      "Input :  @lapcat Need to send 'em to my accountant tomorrow. Oddly, I wasn't even referring to my taxes. Those are supporting evidence, though. \n",
      "Output :  0\n"
     ]
    }
   ],
   "source": [
    "app(\"@lapcat Need to send 'em to my accountant tomorrow. Oddly, I wasn't even referring to my taxes. Those are supporting evidence, though. \")"
   ]
  },
  {
   "cell_type": "code",
   "execution_count": 157,
   "id": "d8054be6",
   "metadata": {},
   "outputs": [
    {
     "name": "stdout",
     "output_type": "stream",
     "text": [
      "Input :  Depression is like a war. You either win or you die trying.\n",
      "Output :  1\n"
     ]
    }
   ],
   "source": [
    "app('Depression is like a war. You either win or you die trying.')"
   ]
  },
  {
   "cell_type": "code",
   "execution_count": 165,
   "id": "3d1c3bb5",
   "metadata": {},
   "outputs": [
    {
     "name": "stdout",
     "output_type": "stream",
     "text": [
      "Input :  i had terrible day\n",
      "Output :  0\n"
     ]
    }
   ],
   "source": [
    "app(\"i had terrible day\")"
   ]
  },
  {
   "cell_type": "code",
   "execution_count": null,
   "id": "28094416",
   "metadata": {},
   "outputs": [],
   "source": []
  }
 ],
 "metadata": {
  "kernelspec": {
   "display_name": "Python 3 (ipykernel)",
   "language": "python",
   "name": "python3"
  },
  "language_info": {
   "codemirror_mode": {
    "name": "ipython",
    "version": 3
   },
   "file_extension": ".py",
   "mimetype": "text/x-python",
   "name": "python",
   "nbconvert_exporter": "python",
   "pygments_lexer": "ipython3",
   "version": "3.9.7"
  }
 },
 "nbformat": 4,
 "nbformat_minor": 5
}
