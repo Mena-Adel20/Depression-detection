{
 "cells": [
  {
   "cell_type": "code",
   "execution_count": 149,
   "id": "32ac209d",
   "metadata": {},
   "outputs": [],
   "source": [
    "import pandas as pd\n",
    "import numpy as np\n",
    "import seaborn as sns\n",
    "import matplotlib.pyplot as plt\n",
    "\n",
    "from sklearn.model_selection import train_test_split\n",
    "from sklearn.linear_model import LogisticRegression\n",
    "from sklearn.naive_bayes import MultinomialNB\n",
    "from sklearn.tree import DecisionTreeClassifier\n",
    "from sklearn.ensemble import RandomForestClassifier\n",
    "from sklearn.svm import LinearSVC\n",
    "from sklearn.utils import compute_class_weight"
   ]
  },
  {
   "cell_type": "code",
   "execution_count": 150,
   "id": "14d77fe7",
   "metadata": {},
   "outputs": [],
   "source": [
    "df=pd.read_csv(r\"C:\\Users\\otaku7\\Desktop\\GP\\depresion\\tfidf_data.csv\")"
   ]
  },
  {
   "cell_type": "code",
   "execution_count": 151,
   "id": "0eb0a415",
   "metadata": {
    "scrolled": false
   },
   "outputs": [
    {
     "data": {
      "text/html": [
       "<div>\n",
       "<style scoped>\n",
       "    .dataframe tbody tr th:only-of-type {\n",
       "        vertical-align: middle;\n",
       "    }\n",
       "\n",
       "    .dataframe tbody tr th {\n",
       "        vertical-align: top;\n",
       "    }\n",
       "\n",
       "    .dataframe thead th {\n",
       "        text-align: right;\n",
       "    }\n",
       "</style>\n",
       "<table border=\"1\" class=\"dataframe\">\n",
       "  <thead>\n",
       "    <tr style=\"text-align: right;\">\n",
       "      <th></th>\n",
       "      <th>Index</th>\n",
       "      <th>message</th>\n",
       "      <th>result</th>\n",
       "    </tr>\n",
       "  </thead>\n",
       "  <tbody>\n",
       "    <tr>\n",
       "      <th>0</th>\n",
       "      <td>106</td>\n",
       "      <td>real good moment miss much</td>\n",
       "      <td>0</td>\n",
       "    </tr>\n",
       "    <tr>\n",
       "      <th>1</th>\n",
       "      <td>217</td>\n",
       "      <td>read manga</td>\n",
       "      <td>0</td>\n",
       "    </tr>\n",
       "    <tr>\n",
       "      <th>2</th>\n",
       "      <td>220</td>\n",
       "      <td>comeagainjen</td>\n",
       "      <td>0</td>\n",
       "    </tr>\n",
       "    <tr>\n",
       "      <th>3</th>\n",
       "      <td>288</td>\n",
       "      <td>lapcat need send account tomorrow oddli even r...</td>\n",
       "      <td>0</td>\n",
       "    </tr>\n",
       "    <tr>\n",
       "      <th>4</th>\n",
       "      <td>540</td>\n",
       "      <td>add myspac</td>\n",
       "      <td>0</td>\n",
       "    </tr>\n",
       "    <tr>\n",
       "      <th>...</th>\n",
       "      <td>...</td>\n",
       "      <td>...</td>\n",
       "      <td>...</td>\n",
       "    </tr>\n",
       "    <tr>\n",
       "      <th>10287</th>\n",
       "      <td>802308</td>\n",
       "      <td>mani suffer depress sad feel noth persist nag ...</td>\n",
       "      <td>1</td>\n",
       "    </tr>\n",
       "    <tr>\n",
       "      <th>10288</th>\n",
       "      <td>802309</td>\n",
       "      <td>depress herbo mood done stress peopl deserv</td>\n",
       "      <td>1</td>\n",
       "    </tr>\n",
       "    <tr>\n",
       "      <th>10289</th>\n",
       "      <td>802310</td>\n",
       "      <td>what depress succumb brain make feel like neve...</td>\n",
       "      <td>1</td>\n",
       "    </tr>\n",
       "    <tr>\n",
       "      <th>10290</th>\n",
       "      <td>802311</td>\n",
       "      <td>ketamin nasal spray show promis against depres...</td>\n",
       "      <td>1</td>\n",
       "    </tr>\n",
       "    <tr>\n",
       "      <th>10291</th>\n",
       "      <td>802312</td>\n",
       "      <td>dont mistak bad day depress everyon</td>\n",
       "      <td>1</td>\n",
       "    </tr>\n",
       "  </tbody>\n",
       "</table>\n",
       "<p>10292 rows × 3 columns</p>\n",
       "</div>"
      ],
      "text/plain": [
       "        Index                                            message  result\n",
       "0         106                         real good moment miss much       0\n",
       "1         217                                         read manga       0\n",
       "2         220                                       comeagainjen       0\n",
       "3         288  lapcat need send account tomorrow oddli even r...       0\n",
       "4         540                                         add myspac       0\n",
       "...       ...                                                ...     ...\n",
       "10287  802308  mani suffer depress sad feel noth persist nag ...       1\n",
       "10288  802309        depress herbo mood done stress peopl deserv       1\n",
       "10289  802310  what depress succumb brain make feel like neve...       1\n",
       "10290  802311  ketamin nasal spray show promis against depres...       1\n",
       "10291  802312                dont mistak bad day depress everyon       1\n",
       "\n",
       "[10292 rows x 3 columns]"
      ]
     },
     "execution_count": 151,
     "metadata": {},
     "output_type": "execute_result"
    }
   ],
   "source": [
    "df_tar=pd.read_csv(r\"C:\\Users\\otaku7\\Desktop\\GP\\depresion\\clean_data.csv\")\n",
    "df_tar"
   ]
  },
  {
   "cell_type": "code",
   "execution_count": null,
   "id": "4e7eb36d",
   "metadata": {},
   "outputs": [],
   "source": []
  },
  {
   "cell_type": "code",
   "execution_count": 152,
   "id": "d9af7bf2",
   "metadata": {},
   "outputs": [
    {
     "data": {
      "text/plain": [
       "Index      0\n",
       "message    0\n",
       "result     0\n",
       "dtype: int64"
      ]
     },
     "execution_count": 152,
     "metadata": {},
     "output_type": "execute_result"
    }
   ],
   "source": [
    "df_tar.isnull().sum()\n"
   ]
  },
  {
   "cell_type": "code",
   "execution_count": null,
   "id": "4dccd66b",
   "metadata": {},
   "outputs": [],
   "source": []
  },
  {
   "cell_type": "code",
   "execution_count": 160,
   "id": "46162543",
   "metadata": {},
   "outputs": [],
   "source": [
    "X=df\n",
    "y=df_tar['result']"
   ]
  },
  {
   "cell_type": "code",
   "execution_count": 161,
   "id": "915f8d61",
   "metadata": {},
   "outputs": [],
   "source": [
    "from sklearn.model_selection import train_test_split\n",
    "\n",
    "X_train, X_test ,y_train ,y_test = train_test_split(X, y, test_size=0.2,\n",
    "                                                    stratify= y  , random_state=0)"
   ]
  },
  {
   "cell_type": "code",
   "execution_count": 162,
   "id": "6356df06",
   "metadata": {
    "scrolled": true
   },
   "outputs": [
    {
     "data": {
      "image/png": "[encoded data removed]",
      "text/plain": [
       "<Figure size 432x288 with 1 Axes>"
      ]
     },
     "metadata": {
      "needs_background": "light"
     },
     "output_type": "display_data"
    }
   ],
   "source": [
    "sns.countplot(x=y_train)\n",
    "plt.show()"
   ]
  },
  {
   "cell_type": "code",
   "execution_count": 163,
   "id": "d5bf5f41",
   "metadata": {},
   "outputs": [
    {
     "data": {
      "image/png": "[encoded data removed]",
      "text/plain": [
       "<Figure size 432x288 with 1 Axes>"
      ]
     },
     "metadata": {
      "needs_background": "light"
     },
     "output_type": "display_data"
    }
   ],
   "source": [
    "sns.countplot(x=y_test)\n",
    "plt.show()"
   ]
  },
  {
   "cell_type": "code",
   "execution_count": 164,
   "id": "0d82dcc8",
   "metadata": {},
   "outputs": [
    {
     "data": {
      "text/plain": [
       "((8233, 14869), (8233,), (2059, 14869), (2059,))"
      ]
     },
     "execution_count": 164,
     "metadata": {},
     "output_type": "execute_result"
    }
   ],
   "source": [
    "X_train.shape, y_train.shape, X_test.shape, y_test.shape"
   ]
  },
  {
   "cell_type": "code",
   "execution_count": 165,
   "id": "11b9a6b5",
   "metadata": {},
   "outputs": [
    {
     "name": "stdout",
     "output_type": "stream",
     "text": [
      "{0: 0.6445390781563126, 1: 2.229636048526863}\n"
     ]
    }
   ],
   "source": [
    "from sklearn.utils import compute_class_weight\n",
    "\n",
    "classWeights = compute_class_weight(\"balanced\", classes = np.unique(df_tar['result']),\n",
    "                                     y = df_tar['result'])\n",
    "\n",
    "class_Weights = dict(zip(np.unique(np.unique(df_tar['result'])), classWeights))\n",
    "\n",
    "print(class_Weights)"
   ]
  },
  {
   "cell_type": "code",
   "execution_count": 200,
   "id": "d31c3c3a",
   "metadata": {},
   "outputs": [],
   "source": [
    "def makeCM_Matrix(cm_matrix, title):\n",
    "\n",
    "  categories = ['Negative','Positive']\n",
    "\n",
    "  group_names = ['True Negative','False Positive', 'False Negative','True Positive']\n",
    "\n",
    "  group_percentages = ['{0:.2%}'.format(value) for value in cm_matrix.flatten() / np.sum(cm_matrix)]\n",
    "\n",
    "  labels = [f'{v1}\\n{v2} ({v3})' for v1, v2 ,v3 in zip(group_names,cm_matrix.flatten(),group_percentages)]\n",
    "\n",
    "  labels = np.asarray(labels).reshape(2,2)\n",
    "\n",
    "  sns.heatmap(cm_matrix, annot = labels,fmt = '',\n",
    "  xticklabels = categories, yticklabels = categories)\n",
    "\n",
    "  plt.xlabel(\"Predicted values\", fontdict = {'size':14}, labelpad = 10)\n",
    "  plt.ylabel(\"Actual values\" , fontdict = {'size':14}, labelpad = 10)\n",
    "  plt.title (f\"{title} Confusion Matrix\", fontdict = {'size':18}, pad = 20)\n",
    "  plt.show()"
   ]
  },
  {
   "cell_type": "markdown",
   "id": "c6f77d42",
   "metadata": {},
   "source": [
    "## logistic regression"
   ]
  },
  {
   "cell_type": "code",
   "execution_count": 192,
   "id": "fff87762",
   "metadata": {},
   "outputs": [],
   "source": [
    "lr = LogisticRegression(class_weight=classWeights)"
   ]
  },
  {
   "cell_type": "code",
   "execution_count": 193,
   "id": "04a072f2",
   "metadata": {},
   "outputs": [
    {
     "name": "stderr",
     "output_type": "stream",
     "text": [
      "C:\\Users\\otaku7\\anaconda3\\lib\\site-packages\\sklearn\\linear_model\\_logistic.py:680: FutureWarning: elementwise comparison failed; returning scalar instead, but in the future will perform elementwise comparison\n",
      "  if class_weight == \"balanced\":\n"
     ]
    },
    {
     "data": {
      "text/plain": [
       "LogisticRegression(class_weight=array([0.64453908, 2.22963605]))"
      ]
     },
     "execution_count": 193,
     "metadata": {},
     "output_type": "execute_result"
    }
   ],
   "source": [
    "lr.fit(X_train, y_train)"
   ]
  },
  {
   "cell_type": "code",
   "execution_count": 194,
   "id": "83d8a565",
   "metadata": {},
   "outputs": [],
   "source": [
    "Train_lrScore = lr.score(X_train, y_train)"
   ]
  },
  {
   "cell_type": "code",
   "execution_count": 195,
   "id": "7e5fdf1e",
   "metadata": {},
   "outputs": [
    {
     "name": "stdout",
     "output_type": "stream",
     "text": [
      "Train Accuracy score of Logistic Regression is : 99.23%\n"
     ]
    }
   ],
   "source": [
    "print(f'Train Accuracy score of Logistic Regression is : {round(Train_lrScore * 100 ,2)}%')"
   ]
  },
  {
   "cell_type": "code",
   "execution_count": 196,
   "id": "8e34ac4b",
   "metadata": {},
   "outputs": [],
   "source": [
    "Test_lrScore = lr.score(X_test, y_test)"
   ]
  },
  {
   "cell_type": "code",
   "execution_count": 197,
   "id": "cfe1c0ea",
   "metadata": {},
   "outputs": [
    {
     "name": "stdout",
     "output_type": "stream",
     "text": [
      "Test Accuracy score for Logistic Regression is : 97.91%\n"
     ]
    }
   ],
   "source": [
    "print(f'Test Accuracy score for Logistic Regression is : {round(Test_lrScore * 100 ,2)}%')"
   ]
  },
  {
   "cell_type": "code",
   "execution_count": 198,
   "id": "9a4607b3",
   "metadata": {},
   "outputs": [],
   "source": [
    "from sklearn.metrics import confusion_matrix, accuracy_score, classification_report, roc_auc_score"
   ]
  },
  {
   "cell_type": "code",
   "execution_count": 199,
   "id": "9c68a868",
   "metadata": {},
   "outputs": [],
   "source": [
    "lrPreds = lr.predict(X_test)"
   ]
  },
  {
   "cell_type": "code",
   "execution_count": 201,
   "id": "f31541c5",
   "metadata": {},
   "outputs": [
    {
     "data": {
      "image/png": "[encoded data removed]",
      "text/plain": [
       "<Figure size 432x288 with 2 Axes>"
      ]
     },
     "metadata": {
      "needs_background": "light"
     },
     "output_type": "display_data"
    }
   ],
   "source": [
    "makeCM_Matrix(confusion_matrix(y_test, lrPreds), 'Logistic Regression')"
   ]
  },
  {
   "cell_type": "code",
   "execution_count": 202,
   "id": "dd93ffe6",
   "metadata": {},
   "outputs": [
    {
     "name": "stdout",
     "output_type": "stream",
     "text": [
      "Logistic Regression Classification Report: \n",
      "               precision    recall  f1-score   support\n",
      "\n",
      "          No       0.97      1.00      0.99      1597\n",
      "         Yes       1.00      0.91      0.95       462\n",
      "\n",
      "    accuracy                           0.98      2059\n",
      "   macro avg       0.99      0.95      0.97      2059\n",
      "weighted avg       0.98      0.98      0.98      2059\n",
      "\n"
     ]
    }
   ],
   "source": [
    "from sklearn.metrics import classification_report\n",
    "\n",
    "classification_report = classification_report(y_test, lrPreds, target_names=['No','Yes'])\n",
    "print('Logistic Regression Classification Report: \\n',classification_report)"
   ]
  },
  {
   "cell_type": "markdown",
   "id": "d4521b80",
   "metadata": {},
   "source": [
    "## decision tree"
   ]
  },
  {
   "cell_type": "code",
   "execution_count": null,
   "id": "ecdf8e0d",
   "metadata": {},
   "outputs": [],
   "source": []
  }
 ],
 "metadata": {
  "kernelspec": {
   "display_name": "Python 3 (ipykernel)",
   "language": "python",
   "name": "python3"
  },
  "language_info": {
   "codemirror_mode": {
    "name": "ipython",
    "version": 3
   },
   "file_extension": ".py",
   "mimetype": "text/x-python",
   "name": "python",
   "nbconvert_exporter": "python",
   "pygments_lexer": "ipython3",
   "version": "3.9.7"
  }
 },
 "nbformat": 4,
 "nbformat_minor": 5
}
